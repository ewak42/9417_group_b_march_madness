{
 "cells": [
  {
   "cell_type": "code",
   "execution_count": 23,
   "metadata": {},
   "outputs": [],
   "source": [
    "import os\n",
    "import re\n",
    "import sklearn\n",
    "import numpy as np \n",
    "import pandas as pd\n",
    "# import seaborn as sns\n",
    "import matplotlib.pyplot as plt\n",
    "\n",
    "from collections import Counter\n",
    "from sklearn.metrics import *\n",
    "from sklearn.linear_model import *\n",
    "from sklearn.model_selection import *"
   ]
  },
  {
   "cell_type": "code",
   "execution_count": 24,
   "metadata": {},
   "outputs": [],
   "source": [
    "DATA_PATH = 'march-machine-learning-mania-2023/'"
   ]
  },
  {
   "cell_type": "markdown",
   "metadata": {},
   "source": [
    "### Seeds"
   ]
  },
  {
   "cell_type": "code",
   "execution_count": 25,
   "metadata": {},
   "outputs": [],
   "source": [
    "df_seeds = pd.read_csv(DATA_PATH + \"MNCAATourneySeeds.csv\")"
   ]
  },
  {
   "cell_type": "markdown",
   "metadata": {},
   "source": [
    "### Season results\n",
    "\n",
    "Add total rebounds for each team, and for the whole game (to later calculate rebound percentages)"
   ]
  },
  {
   "cell_type": "code",
   "execution_count": 26,
   "metadata": {},
   "outputs": [],
   "source": [
    "df_season_results = pd.read_csv(DATA_PATH + \"MRegularSeasonDetailedResults.csv\")\n",
    "\n",
    "df_season_results.drop(['NumOT', 'WLoc'], axis=1, inplace=True)\n",
    "\n",
    "df_season_results['WTR'] = df_season_results['WOR'] + df_season_results['WDR']\n",
    "df_season_results['LTR'] = df_season_results['LOR'] + df_season_results['LDR']\n",
    "df_season_results['TR'] = df_season_results['WTR'] + df_season_results['LTR']\n",
    "df_season_results['ScoreGap'] = df_season_results['WScore'] - df_season_results['LScore']\n",
    "\n",
    "df_season_results.drop(['WStl', 'WBlk', 'WPF', 'LStl', 'LBlk', 'LPF'], axis=1, inplace=True)\n"
   ]
  },
  {
   "cell_type": "markdown",
   "metadata": {},
   "source": [
    "### Features\n",
    "Aggregate the results for the fields we will later use for our features.\n",
    "\n",
    "For each team at each season, computing:\n",
    "- Number of wins\n",
    "- Number of losses\n",
    "- Average score gap of wins\n",
    "- Average score gap of losses\n",
    "- Total field goals made and attempted for wins and losses\n",
    "- Total 3-point field goals made and attempted for wins and losses\n",
    "- Total free throws made and attempted for wins and losses\n",
    "- Total rebounds by the team for wins and losses\n",
    "- Total rebounds in the game for wins and losses\n",
    "- Total assists for wins and losses\n",
    "- Total turnovers for wins and losses\n",
    "\n",
    "And use the following features ([explained here](https://en.wikipedia.org/wiki/Basketball_statistics)):\n",
    "\n",
    "- Win Ratio\n",
    "- Average score gap\n",
    "- Field goal %\n",
    "- 3-point field goal %\n",
    "- Free throw %\n",
    "- [Effective field goal %](https://en.wikipedia.org/wiki/Effective_field_goal_percentage)\n",
    "- [True shooting %](https://en.wikipedia.org/wiki/True_shooting_percentage)\n",
    "- Total rebound %\n",
    "- Assist to turnover ratio\n",
    "- Turnover %\n",
    "- Offensive rating (Points scored per possession)\n",
    "- Defensive rating (Points allowed per opposition possession)\n",
    "- [Net rating (Offensive rating - Defensive rating)](https://www.pivotanalysis.com/post/net-rating)\n"
   ]
  },
  {
   "cell_type": "code",
   "execution_count": 27,
   "metadata": {},
   "outputs": [],
   "source": [
    "num_win = df_season_results.groupby(['Season', 'WTeamID']).count().reset_index()[['Season', 'WTeamID', 'DayNum']].rename(columns={\"DayNum\": \"NumWins\", \"WTeamID\": \"TeamID\"})\n",
    "num_loss = df_season_results.groupby(['Season', 'LTeamID']).count().reset_index()[['Season', 'LTeamID', 'DayNum']].rename(columns={\"DayNum\": \"NumLosses\", \"LTeamID\": \"TeamID\"})\n",
    "gap_win = df_season_results.groupby(['Season', 'WTeamID']).mean().reset_index()[['Season', 'WTeamID', 'ScoreGap']].rename(columns={\"ScoreGap\": \"GapWins\", \"WTeamID\": \"TeamID\"})\n",
    "gap_loss = df_season_results.groupby(['Season', 'LTeamID']).mean().reset_index()[['Season', 'LTeamID', 'ScoreGap']].rename(columns={\"ScoreGap\": \"GapLosses\", \"LTeamID\": \"TeamID\"})\n",
    "fgm_win = df_season_results.groupby(['Season', 'WTeamID']).sum().reset_index()[['Season', 'WTeamID', 'WFGM']].rename(columns={\"WFGM\": \"FGMWins\", \"WTeamID\": \"TeamID\"})\n",
    "fgm_loss = df_season_results.groupby(['Season', 'LTeamID']).sum().reset_index()[['Season', 'LTeamID', 'LFGM']].rename(columns={\"LFGM\": \"FGMLosses\", \"LTeamID\": \"TeamID\"})\n",
    "fga_win = df_season_results.groupby(['Season', 'WTeamID']).sum().reset_index()[['Season', 'WTeamID', 'WFGA']].rename(columns={\"WFGA\": \"FGAWins\", \"WTeamID\": \"TeamID\"})\n",
    "fga_loss = df_season_results.groupby(['Season', 'LTeamID']).sum().reset_index()[['Season', 'LTeamID', 'LFGA']].rename(columns={\"LFGA\": \"FGALosses\", \"LTeamID\": \"TeamID\"})\n",
    "fgm3_win = df_season_results.groupby(['Season', 'WTeamID']).sum().reset_index()[['Season', 'WTeamID', 'WFGM3']].rename(columns={\"WFGM3\": \"FGM3Wins\", \"WTeamID\": \"TeamID\"})\n",
    "fgm3_loss = df_season_results.groupby(['Season', 'LTeamID']).sum().reset_index()[['Season', 'LTeamID', 'LFGM3']].rename(columns={\"LFGM3\": \"FGM3Losses\", \"LTeamID\": \"TeamID\"})\n",
    "fga3_win = df_season_results.groupby(['Season', 'WTeamID']).sum().reset_index()[['Season', 'WTeamID', 'WFGA3']].rename(columns={\"WFGA3\": \"FGA3Wins\", \"WTeamID\": \"TeamID\"})\n",
    "fga3_loss = df_season_results.groupby(['Season', 'LTeamID']).sum().reset_index()[['Season', 'LTeamID', 'LFGA3']].rename(columns={\"LFGA3\": \"FGA3Losses\", \"LTeamID\": \"TeamID\"})\n",
    "ftm_win = df_season_results.groupby(['Season', 'WTeamID']).sum().reset_index()[['Season', 'WTeamID', 'WFTM']].rename(columns={\"WFTM\": \"FTMWins\", \"WTeamID\": \"TeamID\"})\n",
    "ftm_loss = df_season_results.groupby(['Season', 'LTeamID']).sum().reset_index()[['Season', 'LTeamID', 'LFTM']].rename(columns={\"LFTM\": \"FTMLosses\", \"LTeamID\": \"TeamID\"})\n",
    "fta_win = df_season_results.groupby(['Season', 'WTeamID']).sum().reset_index()[['Season', 'WTeamID', 'WFTA']].rename(columns={\"WFTA\": \"FTAWins\", \"WTeamID\": \"TeamID\"})\n",
    "fta_loss = df_season_results.groupby(['Season', 'LTeamID']).sum().reset_index()[['Season', 'LTeamID', 'LFTA']].rename(columns={\"LFTA\": \"FTALosses\", \"LTeamID\": \"TeamID\"})\n",
    "teamreb_win = df_season_results.groupby(['Season', 'WTeamID']).sum().reset_index()[['Season', 'WTeamID', 'WTR']].rename(columns={\"WTR\": \"TeamRebWins\", \"WTeamID\": \"TeamID\"})\n",
    "teamreb_loss = df_season_results.groupby(['Season', 'LTeamID']).sum().reset_index()[['Season', 'LTeamID', 'LTR']].rename(columns={\"LTR\": \"TeamRebLosses\", \"LTeamID\": \"TeamID\"})\n",
    "gamereb_win = df_season_results.groupby(['Season', 'WTeamID']).sum().reset_index()[['Season', 'WTeamID', 'TR']].rename(columns={\"TR\": \"GameRebWins\", \"WTeamID\": \"TeamID\"})\n",
    "gamereb_loss = df_season_results.groupby(['Season', 'LTeamID']).sum().reset_index()[['Season', 'LTeamID', 'TR']].rename(columns={\"TR\": \"GameRebLosses\", \"LTeamID\": \"TeamID\"})\n",
    "ast_win = df_season_results.groupby(['Season', 'WTeamID']).sum().reset_index()[['Season', 'WTeamID', 'WAst']].rename(columns={\"WAst\": \"AstWins\", \"WTeamID\": \"TeamID\"})\n",
    "ast_loss = df_season_results.groupby(['Season', 'LTeamID']).sum().reset_index()[['Season', 'LTeamID', 'LAst']].rename(columns={\"LAst\": \"AstLosses\", \"LTeamID\": \"TeamID\"})\n",
    "to_win = df_season_results.groupby(['Season', 'WTeamID']).sum().reset_index()[['Season', 'WTeamID', 'WTO']].rename(columns={\"WTO\": \"TOWins\", \"WTeamID\": \"TeamID\"})\n",
    "to_loss = df_season_results.groupby(['Season', 'LTeamID']).sum().reset_index()[['Season', 'LTeamID', 'LTO']].rename(columns={\"LTO\": \"TOLosses\", \"LTeamID\": \"TeamID\"})\n",
    "opp_pts_win = df_season_results.groupby(['Season', 'WTeamID']).sum().reset_index()[['Season', 'WTeamID', 'LScore']].rename(columns={\"LScore\": \"oppPTSWins\", \"WTeamID\": \"TeamID\"})\n",
    "opp_pts_loss = df_season_results.groupby(['Season', 'LTeamID']).sum().reset_index()[['Season', 'LTeamID', 'WScore']].rename(columns={\"WScore\": \"oppPTSLosses\", \"LTeamID\": \"TeamID\"})\n",
    "opp_fga_win = df_season_results.groupby(['Season', 'WTeamID']).sum().reset_index()[['Season', 'WTeamID', 'LFGA']].rename(columns={\"LFGA\": \"oppFGAWins\", \"WTeamID\": \"TeamID\"})\n",
    "opp_fga_loss = df_season_results.groupby(['Season', 'LTeamID']).sum().reset_index()[['Season', 'LTeamID', 'WFGA']].rename(columns={\"WFGA\": \"oppFGALosses\", \"LTeamID\": \"TeamID\"})\n",
    "opp_fta_win = df_season_results.groupby(['Season', 'WTeamID']).sum().reset_index()[['Season', 'WTeamID', 'LFTA']].rename(columns={\"LFTA\": \"oppFTAWins\", \"WTeamID\": \"TeamID\"})\n",
    "opp_fta_loss = df_season_results.groupby(['Season', 'LTeamID']).sum().reset_index()[['Season', 'LTeamID', 'WFTA']].rename(columns={\"WFTA\": \"oppFTALosses\", \"LTeamID\": \"TeamID\"})\n",
    "opp_to_win = df_season_results.groupby(['Season', 'WTeamID']).sum().reset_index()[['Season', 'WTeamID', 'LTO']].rename(columns={\"LTO\": \"oppTOWins\", \"WTeamID\": \"TeamID\"})\n",
    "opp_to_loss = df_season_results.groupby(['Season', 'LTeamID']).sum().reset_index()[['Season', 'LTeamID', 'WTO']].rename(columns={\"WTO\": \"oppTOLosses\", \"LTeamID\": \"TeamID\"})\n"
   ]
  },
  {
   "cell_type": "code",
   "execution_count": 28,
   "metadata": {},
   "outputs": [],
   "source": [
    "df_features_season_w = df_season_results.groupby(['Season', 'WTeamID']).count().reset_index()[['Season', 'WTeamID']].rename(columns={\"WTeamID\": \"TeamID\"})\n",
    "df_features_season_l = df_season_results.groupby(['Season', 'LTeamID']).count().reset_index()[['Season', 'LTeamID']].rename(columns={\"LTeamID\": \"TeamID\"})\n",
    "df_features_season = pd.concat([\n",
    "  df_features_season_w, \n",
    "  df_features_season_l\n",
    "], axis=0).drop_duplicates().sort_values(['Season', 'TeamID']).reset_index(drop=True)"
   ]
  },
  {
   "cell_type": "markdown",
   "metadata": {},
   "source": [
    "#### Merge, compute aggregates"
   ]
  },
  {
   "cell_type": "code",
   "execution_count": 29,
   "metadata": {},
   "outputs": [],
   "source": [
    "df_features_season = df_features_season.merge(num_win, on=['Season', 'TeamID'], how='left')\n",
    "df_features_season = df_features_season.merge(num_loss, on=['Season', 'TeamID'], how='left')\n",
    "df_features_season = df_features_season.merge(gap_win, on=['Season', 'TeamID'], how='left')\n",
    "df_features_season = df_features_season.merge(gap_loss, on=['Season', 'TeamID'], how='left')\n",
    "df_features_season = df_features_season.merge(fgm_win, on=['Season', 'TeamID'], how='left')\n",
    "df_features_season = df_features_season.merge(fgm_loss, on=['Season', 'TeamID'], how='left')\n",
    "df_features_season = df_features_season.merge(fga_win, on=['Season', 'TeamID'], how='left')\n",
    "df_features_season = df_features_season.merge(fga_loss, on=['Season', 'TeamID'], how='left')\n",
    "df_features_season = df_features_season.merge(fgm3_win, on=['Season', 'TeamID'], how='left')\n",
    "df_features_season = df_features_season.merge(fgm3_loss, on=['Season', 'TeamID'], how='left')\n",
    "df_features_season = df_features_season.merge(fga3_win, on=['Season', 'TeamID'], how='left')\n",
    "df_features_season = df_features_season.merge(fga3_loss, on=['Season', 'TeamID'], how='left')\n",
    "df_features_season = df_features_season.merge(ftm_win, on=['Season', 'TeamID'], how='left')\n",
    "df_features_season = df_features_season.merge(ftm_loss, on=['Season', 'TeamID'], how='left')\n",
    "df_features_season = df_features_season.merge(fta_win, on=['Season', 'TeamID'], how='left')\n",
    "df_features_season = df_features_season.merge(fta_loss, on=['Season', 'TeamID'], how='left')\n",
    "df_features_season = df_features_season.merge(teamreb_win, on=['Season', 'TeamID'], how='left')\n",
    "df_features_season = df_features_season.merge(teamreb_loss, on=['Season', 'TeamID'], how='left')\n",
    "df_features_season = df_features_season.merge(gamereb_win, on=['Season', 'TeamID'], how='left')\n",
    "df_features_season = df_features_season.merge(gamereb_loss, on=['Season', 'TeamID'], how='left')\n",
    "df_features_season = df_features_season.merge(ast_win, on=['Season', 'TeamID'], how='left')\n",
    "df_features_season = df_features_season.merge(ast_loss, on=['Season', 'TeamID'], how='left')\n",
    "df_features_season = df_features_season.merge(to_win, on=['Season', 'TeamID'], how='left')\n",
    "df_features_season = df_features_season.merge(to_loss, on=['Season', 'TeamID'], how='left')\n",
    "df_features_season = df_features_season.merge(opp_pts_win, on=['Season', 'TeamID'], how='left')\n",
    "df_features_season = df_features_season.merge(opp_pts_loss, on=['Season', 'TeamID'], how='left')\n",
    "df_features_season = df_features_season.merge(opp_fga_win, on=['Season', 'TeamID'], how='left')\n",
    "df_features_season = df_features_season.merge(opp_fga_loss, on=['Season', 'TeamID'], how='left')\n",
    "df_features_season = df_features_season.merge(opp_fta_win, on=['Season', 'TeamID'], how='left')\n",
    "df_features_season = df_features_season.merge(opp_fta_loss, on=['Season', 'TeamID'], how='left')\n",
    "df_features_season = df_features_season.merge(opp_to_win, on=['Season', 'TeamID'], how='left')\n",
    "df_features_season = df_features_season.merge(opp_to_loss, on=['Season', 'TeamID'], how='left')\n",
    "\n",
    "df_features_season.fillna(0, inplace=True)\n",
    "\n",
    "df_features_season['FGM'] = df_features_season['FGMWins'] + df_features_season['FGMLosses']\n",
    "df_features_season['FGA'] = df_features_season['FGAWins'] + df_features_season['FGALosses']\n",
    "df_features_season['FGM3'] = df_features_season['FGM3Wins'] + df_features_season['FGM3Losses']\n",
    "df_features_season['FGA3'] = df_features_season['FGA3Wins'] + df_features_season['FGA3Losses']\n",
    "df_features_season['FTM'] = df_features_season['FTMWins'] + df_features_season['FTMLosses']\n",
    "df_features_season['FTA'] = df_features_season['FTAWins'] + df_features_season['FTALosses']\n",
    "df_features_season['TeamReb'] = df_features_season['TeamRebWins'] + df_features_season['TeamRebLosses']\n",
    "df_features_season['GameReb'] = df_features_season['GameRebWins'] + df_features_season['GameRebLosses']\n",
    "df_features_season['Ast'] = df_features_season['AstWins'] + df_features_season['AstLosses']\n",
    "df_features_season['TO'] = df_features_season['TOWins'] + df_features_season['TOLosses']\n",
    "df_features_season['PTS'] = 2 * df_features_season['FGM'] + df_features_season['FGM3'] + df_features_season['FTM']\n",
    "df_features_season['POSS'] = df_features_season['FGA'] + 0.44 * df_features_season['FTA'] + df_features_season['TO']\n",
    "df_features_season['oppPTS'] = df_features_season['oppPTSWins'] + df_features_season['oppPTSLosses']\n",
    "df_features_season['oppFGA'] = df_features_season['oppFGAWins'] + df_features_season['oppFGALosses']\n",
    "df_features_season['oppFTA'] = df_features_season['oppFTAWins'] + df_features_season['oppFTALosses']\n",
    "df_features_season['oppTO'] = df_features_season['oppTOWins'] + df_features_season['oppTOLosses']\n",
    "df_features_season['oppPOSS'] = df_features_season['oppFGA'] + 0.44 * df_features_season['oppFTA'] + df_features_season['oppTO']"
   ]
  },
  {
   "cell_type": "markdown",
   "metadata": {},
   "source": [
    "#### Compute features"
   ]
  },
  {
   "cell_type": "code",
   "execution_count": 30,
   "metadata": {},
   "outputs": [
    {
     "data": {
      "text/html": [
       "<div>\n",
       "<style scoped>\n",
       "    .dataframe tbody tr th:only-of-type {\n",
       "        vertical-align: middle;\n",
       "    }\n",
       "\n",
       "    .dataframe tbody tr th {\n",
       "        vertical-align: top;\n",
       "    }\n",
       "\n",
       "    .dataframe thead th {\n",
       "        text-align: right;\n",
       "    }\n",
       "</style>\n",
       "<table border=\"1\" class=\"dataframe\">\n",
       "  <thead>\n",
       "    <tr style=\"text-align: right;\">\n",
       "      <th></th>\n",
       "      <th>Season</th>\n",
       "      <th>TeamID</th>\n",
       "      <th>WinRatio</th>\n",
       "      <th>GapAvg</th>\n",
       "      <th>FieldGoal%</th>\n",
       "      <th>3PointFG%</th>\n",
       "      <th>FreeThrow%</th>\n",
       "      <th>effectiveFG%</th>\n",
       "      <th>TrueShooting%</th>\n",
       "      <th>TotalRebound%</th>\n",
       "      <th>AssistToTurnover</th>\n",
       "      <th>Turnover%</th>\n",
       "      <th>OffRating</th>\n",
       "      <th>DefRating</th>\n",
       "      <th>NetRating</th>\n",
       "    </tr>\n",
       "  </thead>\n",
       "  <tbody>\n",
       "    <tr>\n",
       "      <th>0</th>\n",
       "      <td>2003</td>\n",
       "      <td>1102</td>\n",
       "      <td>0.428571</td>\n",
       "      <td>0.250000</td>\n",
       "      <td>0.481149</td>\n",
       "      <td>0.375643</td>\n",
       "      <td>0.651357</td>\n",
       "      <td>0.579443</td>\n",
       "      <td>0.605015</td>\n",
       "      <td>0.413793</td>\n",
       "      <td>1.137500</td>\n",
       "      <td>0.194557</td>\n",
       "      <td>97.461028</td>\n",
       "      <td>89.253758</td>\n",
       "      <td>8.207270</td>\n",
       "    </tr>\n",
       "    <tr>\n",
       "      <th>1</th>\n",
       "      <td>2003</td>\n",
       "      <td>1103</td>\n",
       "      <td>0.481481</td>\n",
       "      <td>0.629630</td>\n",
       "      <td>0.486074</td>\n",
       "      <td>0.338710</td>\n",
       "      <td>0.736390</td>\n",
       "      <td>0.534814</td>\n",
       "      <td>0.585912</td>\n",
       "      <td>0.465738</td>\n",
       "      <td>1.205279</td>\n",
       "      <td>0.158154</td>\n",
       "      <td>98.649426</td>\n",
       "      <td>95.211451</td>\n",
       "      <td>3.437975</td>\n",
       "    </tr>\n",
       "    <tr>\n",
       "      <th>2</th>\n",
       "      <td>2003</td>\n",
       "      <td>1104</td>\n",
       "      <td>0.607143</td>\n",
       "      <td>4.285714</td>\n",
       "      <td>0.420362</td>\n",
       "      <td>0.320144</td>\n",
       "      <td>0.709898</td>\n",
       "      <td>0.475953</td>\n",
       "      <td>0.521831</td>\n",
       "      <td>0.527903</td>\n",
       "      <td>0.911290</td>\n",
       "      <td>0.166753</td>\n",
       "      <td>86.962758</td>\n",
       "      <td>84.525358</td>\n",
       "      <td>2.437401</td>\n",
       "    </tr>\n",
       "    <tr>\n",
       "      <th>3</th>\n",
       "      <td>2003</td>\n",
       "      <td>1105</td>\n",
       "      <td>0.269231</td>\n",
       "      <td>-4.884615</td>\n",
       "      <td>0.395755</td>\n",
       "      <td>0.364815</td>\n",
       "      <td>0.705986</td>\n",
       "      <td>0.457241</td>\n",
       "      <td>0.503801</td>\n",
       "      <td>0.480565</td>\n",
       "      <td>0.779381</td>\n",
       "      <td>0.207538</td>\n",
       "      <td>79.848690</td>\n",
       "      <td>86.566360</td>\n",
       "      <td>-6.717671</td>\n",
       "    </tr>\n",
       "    <tr>\n",
       "      <th>4</th>\n",
       "      <td>2003</td>\n",
       "      <td>1106</td>\n",
       "      <td>0.464286</td>\n",
       "      <td>-0.142857</td>\n",
       "      <td>0.423773</td>\n",
       "      <td>0.346154</td>\n",
       "      <td>0.646421</td>\n",
       "      <td>0.479005</td>\n",
       "      <td>0.508613</td>\n",
       "      <td>0.517647</td>\n",
       "      <td>0.685535</td>\n",
       "      <td>0.214109</td>\n",
       "      <td>79.942904</td>\n",
       "      <td>81.596270</td>\n",
       "      <td>-1.653366</td>\n",
       "    </tr>\n",
       "  </tbody>\n",
       "</table>\n",
       "</div>"
      ],
      "text/plain": [
       "   Season  TeamID  WinRatio    GapAvg  FieldGoal%  3PointFG%  FreeThrow%  \\\n",
       "0    2003    1102  0.428571  0.250000    0.481149   0.375643    0.651357   \n",
       "1    2003    1103  0.481481  0.629630    0.486074   0.338710    0.736390   \n",
       "2    2003    1104  0.607143  4.285714    0.420362   0.320144    0.709898   \n",
       "3    2003    1105  0.269231 -4.884615    0.395755   0.364815    0.705986   \n",
       "4    2003    1106  0.464286 -0.142857    0.423773   0.346154    0.646421   \n",
       "\n",
       "   effectiveFG%  TrueShooting%  TotalRebound%  AssistToTurnover  Turnover%  \\\n",
       "0      0.579443       0.605015       0.413793          1.137500   0.194557   \n",
       "1      0.534814       0.585912       0.465738          1.205279   0.158154   \n",
       "2      0.475953       0.521831       0.527903          0.911290   0.166753   \n",
       "3      0.457241       0.503801       0.480565          0.779381   0.207538   \n",
       "4      0.479005       0.508613       0.517647          0.685535   0.214109   \n",
       "\n",
       "   OffRating  DefRating  NetRating  \n",
       "0  97.461028  89.253758   8.207270  \n",
       "1  98.649426  95.211451   3.437975  \n",
       "2  86.962758  84.525358   2.437401  \n",
       "3  79.848690  86.566360  -6.717671  \n",
       "4  79.942904  81.596270  -1.653366  "
      ]
     },
     "execution_count": 30,
     "metadata": {},
     "output_type": "execute_result"
    }
   ],
   "source": [
    "df_features_season['WinRatio'] = df_features_season['NumWins'] / (df_features_season['NumWins'] + df_features_season['NumLosses'])\n",
    "df_features_season['GapAvg'] = (\n",
    "    (df_features_season['NumWins'] * df_features_season['GapWins'] - \n",
    "    df_features_season['NumLosses'] * df_features_season['GapLosses'])\n",
    "    / (df_features_season['NumWins'] + df_features_season['NumLosses'])\n",
    ")\n",
    "df_features_season['FieldGoal%'] = df_features_season['FGM'] / df_features_season['FGA']\n",
    "df_features_season['3PointFG%'] = df_features_season['FGM3'] / df_features_season['FGA3']\n",
    "df_features_season['FreeThrow%'] = df_features_season['FTM'] / df_features_season['FTA']\n",
    "df_features_season['effectiveFG%'] = (df_features_season['FGM'] + 0.5 * df_features_season['FGM3']) / df_features_season['FGA']\n",
    "df_features_season['TrueShooting%'] = df_features_season['PTS'] / (2 * df_features_season['FGA'] + 0.88 * df_features_season['FTA'])\n",
    "df_features_season['TotalRebound%'] = df_features_season['TeamReb'] / df_features_season['GameReb']\n",
    "df_features_season['AssistToTurnover'] = df_features_season['Ast'] / df_features_season['TO']\n",
    "df_features_season['Turnover%'] = df_features_season['TO'] / df_features_season['POSS']\n",
    "df_features_season['OffRating'] = df_features_season['PTS'] / df_features_season['POSS'] * 100\n",
    "df_features_season['DefRating'] = df_features_season['oppPTS'] / df_features_season['oppPOSS'] * 100\n",
    "df_features_season['NetRating'] = df_features_season['OffRating'] - df_features_season['DefRating']\n",
    "\n",
    "features = ['FieldGoal%', '3PointFG%', 'FreeThrow%', 'effectiveFG%', 'TrueShooting%', 'TotalRebound%', 'AssistToTurnover', 'Turnover%', 'OffRating', 'DefRating', 'NetRating']\n",
    "targets = ['WinRatio', 'GapAvg']\n",
    "keep = ['Season', 'TeamID'] + features + targets\n",
    "df_features_season.drop([col for col in df_features_season.columns.values if col not in keep], axis=1, inplace=True)\n",
    "df_features_season.head()"
   ]
  },
  {
   "cell_type": "code",
   "execution_count": 31,
   "metadata": {},
   "outputs": [],
   "source": [
    "def correlations(df, features, target, extra = ''):\n",
    "  corrs = {}\n",
    "  for feature in features + [extra]:\n",
    "    if feature in df.columns:\n",
    "      corrs[feature] = round(df[feature].corr(df[target]), 4)\n",
    "  return dict(sorted(corrs.items(), key=lambda item: abs(item[1]), reverse=True))"
   ]
  },
  {
   "cell_type": "markdown",
   "metadata": {},
   "source": [
    "Correlations with WinRatio"
   ]
  },
  {
   "cell_type": "code",
   "execution_count": 32,
   "metadata": {},
   "outputs": [
    {
     "data": {
      "text/plain": [
       "{'NetRating': 0.9225,\n",
       " 'OffRating': 0.7018,\n",
       " 'FieldGoal%': 0.6592,\n",
       " 'TrueShooting%': 0.6557,\n",
       " 'DefRating': -0.6537,\n",
       " 'effectiveFG%': 0.6315,\n",
       " 'TotalRebound%': 0.6035,\n",
       " 'AssistToTurnover': 0.5982,\n",
       " '3PointFG%': 0.4457,\n",
       " 'Turnover%': -0.4217,\n",
       " 'FreeThrow%': 0.2711}"
      ]
     },
     "execution_count": 32,
     "metadata": {},
     "output_type": "execute_result"
    }
   ],
   "source": [
    "correlations(df_features_season, features, 'WinRatio')"
   ]
  },
  {
   "cell_type": "markdown",
   "metadata": {},
   "source": [
    "Correlation with GapAvg (aka avg +/-)"
   ]
  },
  {
   "cell_type": "code",
   "execution_count": 33,
   "metadata": {},
   "outputs": [
    {
     "data": {
      "text/plain": [
       "{'NetRating': 0.9635,\n",
       " 'OffRating': 0.7347,\n",
       " 'FieldGoal%': 0.6922,\n",
       " 'TrueShooting%': 0.6807,\n",
       " 'DefRating': -0.6807,\n",
       " 'effectiveFG%': 0.6634,\n",
       " 'TotalRebound%': 0.6486,\n",
       " 'AssistToTurnover': 0.6479,\n",
       " '3PointFG%': 0.4686,\n",
       " 'Turnover%': -0.4548,\n",
       " 'FreeThrow%': 0.2827}"
      ]
     },
     "execution_count": 33,
     "metadata": {},
     "output_type": "execute_result"
    }
   ],
   "source": [
    "correlations(df_features_season, features, 'GapAvg')"
   ]
  }
 ],
 "metadata": {
  "kernelspec": {
   "display_name": "Python 3",
   "language": "python",
   "name": "python3"
  },
  "language_info": {
   "codemirror_mode": {
    "name": "ipython",
    "version": 3
   },
   "file_extension": ".py",
   "mimetype": "text/x-python",
   "name": "python",
   "nbconvert_exporter": "python",
   "pygments_lexer": "ipython3",
   "version": "3.10.7"
  },
  "orig_nbformat": 4
 },
 "nbformat": 4,
 "nbformat_minor": 2
}
